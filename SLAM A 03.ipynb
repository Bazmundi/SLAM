{
 "cells": [
  {
   "cell_type": "markdown",
   "metadata": {},
   "source": [
    "Given $\\left(x,y,\\theta\\right), \\left(l,r\\right)$"
   ]
  },
  {
   "cell_type": "markdown",
   "metadata": {},
   "source": [
    "if $\\alpha \\neq 0 <=> r \\neq l$"
   ]
  },
  {
   "cell_type": "markdown",
   "metadata": {},
   "source": [
    "(1) $\\alpha$ = $\\frac{r-l}{w}$"
   ]
  },
  {
   "cell_type": "markdown",
   "metadata": {},
   "source": [
    "(2) R = $\\frac{l}{\\alpha}$"
   ]
  },
  {
   "cell_type": "markdown",
   "metadata": {},
   "source": [
    "(3)\n",
    "$\n",
    "\\left[\\begin{array}{cc}\n",
    "cx\\\\\n",
    "cy\n",
    "\\end{array}\\right]\n",
    "=\n",
    "\\left[\\begin{array} {cc}\n",
    "x\\\\ \n",
    "y\n",
    "\\end{array}\\right]\n",
    "-\n",
    "\\left(\n",
    "R+\\frac{w}{2}\n",
    "\\right)\n",
    "\\left[\\begin{array}{cc}\n",
    "sin\\theta\\\\\n",
    "-cos\\theta\n",
    "\\end{array}\\right]\n",
    "$ "
   ]
  },
  {
   "cell_type": "markdown",
   "metadata": {},
   "source": [
    "(4) \n",
    "$\n",
    "\\theta' = \\left(\\theta + \\alpha\n",
    "\\right) mod \n",
    "2 \\pi\n",
    "$"
   ]
  },
  {
   "cell_type": "markdown",
   "metadata": {},
   "source": [
    "(5)\n",
    "$\n",
    "\\left[\\begin{array} {cc}\n",
    "x'\\\\ \n",
    "y'\n",
    "\\end{array}\\right]\n",
    "=\n",
    "\\left[\\begin{array}{cc}\n",
    "cx\\\\\n",
    "cy\n",
    "\\end{array}\\right]\n",
    "+\n",
    "\\left(\n",
    "R+\\frac{w}{2}\n",
    "\\right)\n",
    "\\left[\\begin{array}{cc}\n",
    "sin\\theta'\\\\\n",
    "-cos\\theta'\n",
    "\\end{array}\\right]\n",
    "$"
   ]
  },
  {
   "cell_type": "markdown",
   "metadata": {},
   "source": [
    "else if $ r=l$"
   ]
  },
  {
   "cell_type": "markdown",
   "metadata": {},
   "source": [
    "(6)\n",
    "$\n",
    "\\theta'=\\theta\n",
    "$"
   ]
  },
  {
   "cell_type": "markdown",
   "metadata": {},
   "source": [
    "(7)\n",
    "$\n",
    "x'=x+lcos\\theta\n",
    "$"
   ]
  },
  {
   "cell_type": "markdown",
   "metadata": {},
   "source": [
    "(8)\n",
    "$\n",
    "y'=y+lsin\\theta\n",
    "$"
   ]
  },
  {
   "cell_type": "markdown",
   "metadata": {},
   "source": [
    "$\n",
    "w=150mm\n",
    "$"
   ]
  },
  {
   "cell_type": "markdown",
   "metadata": {},
   "source": [
    "$\n",
    "tickFactor=0.349mm\n",
    "$"
   ]
  }
 ],
 "metadata": {
  "kernelspec": {
   "display_name": "Python 3",
   "language": "python",
   "name": "python3"
  },
  "language_info": {
   "codemirror_mode": {
    "name": "ipython",
    "version": 3
   },
   "file_extension": ".py",
   "mimetype": "text/x-python",
   "name": "python",
   "nbconvert_exporter": "python",
   "pygments_lexer": "ipython3",
   "version": "3.5.3"
  }
 },
 "nbformat": 4,
 "nbformat_minor": 2
}
