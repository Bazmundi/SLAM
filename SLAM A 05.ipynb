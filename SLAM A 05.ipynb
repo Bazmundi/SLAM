{
 "cells": [
  {
   "cell_type": "code",
   "execution_count": 32,
   "metadata": {},
   "outputs": [],
   "source": [
    "from math import sin, cos, pi\n",
    "from pylab import *\n",
    "from lego_robot import *\n",
    "import numpy as np"
   ]
  },
  {
   "cell_type": "code",
   "execution_count": 39,
   "metadata": {},
   "outputs": [],
   "source": [
    "# This function takes the old (x, y, heading) pose and the motor ticks\n",
    "# (ticks_left, ticks_right) and returns the new (x, y, heading).\n",
    "def filter_step(old_pose, motor_ticks, ticks_to_mm, robot_width,s_d):\n",
    "    \n",
    "    x,y,theta = old_pose\n",
    "    \n",
    "    left_ticks  = motor_ticks[0]*ticks_to_mm\n",
    "    right_ticks = motor_ticks[1]*ticks_to_mm\n",
    "    \n",
    "    # Find out if there is a turn at all.\n",
    "    if motor_ticks[0] == motor_ticks[1]:\n",
    "        # No turn. Just drive straight.\n",
    "\n",
    "        # --->>> Implement your code to compute x, y, theta here.\n",
    "      \n",
    "        x = x + left_ticks*cos(theta)\n",
    "        y = y + left_ticks*sin(theta)\n",
    "\n",
    "        return (x, y, theta)\n",
    "\n",
    "    else:\n",
    "        # Turn. Compute alpha, R, etc.\n",
    "               \n",
    "        # --->>> Implement your code to compute x, y, theta here.\n",
    "              \n",
    "        alpha = (right_ticks-left_ticks)/robot_width\n",
    "        bigR = left_ticks/alpha\n",
    "        \n",
    "        x_d,y_d = np.array([s_d*cos(theta),s_d*sin(theta)])\n",
    "        \n",
    "        oldx,oldy = np.array([x,y])-np.array([x_d,y_d])\n",
    "        \n",
    "        c_x,c_y = np.array([oldx,oldy])-(bigR+(robot_width/2))*np.array([sin(theta),-cos(theta)])\n",
    "             \n",
    "        theta_p = (theta+alpha)%(2*pi)\n",
    "        \n",
    "        x_p, y_p = np.array([c_x,c_y])+(bigR+(robot_width/2))*np.array([sin(theta_p),-cos(theta_p)])+ np.array([x_d,y_d]) \n",
    "        \n",
    "        return (x_p, y_p, theta_p)"
   ]
  },
  {
   "cell_type": "code",
   "execution_count": 40,
   "metadata": {},
   "outputs": [],
   "source": [
    "scanner_displacement = 30.0\n",
    "\n",
    "# Empirically derived conversion from ticks to mm.\n",
    "ticks_to_mm = 0.349\n",
    "\n",
    "# Measured width of the robot (wheel gauge), in mm.\n",
    "robot_width = 150.0"
   ]
  },
  {
   "cell_type": "code",
   "execution_count": 41,
   "metadata": {},
   "outputs": [],
   "source": [
    "# Measured start position.\n",
    "pose = (1850.0, 1897.0, 213.0 / 180.0 * pi)"
   ]
  },
  {
   "cell_type": "code",
   "execution_count": 42,
   "metadata": {},
   "outputs": [],
   "source": [
    "# Read data.\n",
    "logfile = LegoLogfile()\n",
    "logfile.read(\"robot4_motors.txt\")\n",
    "\n",
    "# Loop over all motor tick records generate filtered position list.\n",
    "filtered = []\n",
    "for ticks in logfile.motor_ticks:\n",
    "    pose = filter_step(pose, ticks, ticks_to_mm, robot_width, scanner_displacement)\n",
    "    filtered.append(pose)"
   ]
  },
  {
   "cell_type": "code",
   "execution_count": 43,
   "metadata": {},
   "outputs": [
    {
     "data": {
      "image/png": "[encoded data removed]",
      "text/plain": [
       "<Figure size 432x288 with 1 Axes>"
      ]
     },
     "metadata": {
      "needs_background": "light"
     },
     "output_type": "display_data"
    }
   ],
   "source": [
    "# Draw result.\n",
    "for pose in filtered:\n",
    "    plot([p[0] for p in filtered], [p[1] for p in filtered], 'bo')\n",
    "show()"
   ]
  },
  {
   "cell_type": "code",
   "execution_count": 44,
   "metadata": {},
   "outputs": [],
   "source": [
    " # Write all filtered positions to file.\n",
    "f = open(\"poses_from_ticks.txt\", \"w\")\n",
    "for pose in filtered:\n",
    "    f.write(\"F %f %f %f\\n\" % pose)\n",
    "f.close()"
   ]
  },
  {
   "cell_type": "code",
   "execution_count": null,
   "metadata": {},
   "outputs": [],
   "source": []
  }
 ],
 "metadata": {
  "kernelspec": {
   "display_name": "Python 3",
   "language": "python",
   "name": "python3"
  },
  "language_info": {
   "codemirror_mode": {
    "name": "ipython",
    "version": 3
   },
   "file_extension": ".py",
   "mimetype": "text/x-python",
   "name": "python",
   "nbconvert_exporter": "python",
   "pygments_lexer": "ipython3",
   "version": "3.5.3"
  }
 },
 "nbformat": 4,
 "nbformat_minor": 2
}
